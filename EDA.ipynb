{
 "cells": [
  {
   "cell_type": "markdown",
   "metadata": {},
   "source": [
    "# Exploratory Data Analysis"
   ]
  },
  {
   "cell_type": "code",
   "execution_count": null,
   "metadata": {},
   "outputs": [],
   "source": [
    "import pandas as pd\n",
    "import numpy as np\n",
    "import pickle\n",
    "\n",
    "import seaborn as sns\n",
    "import matplotlib.pyplot as plt\n",
    "sns.set(palette='husl',\n",
    "        rc={'figure.figsize':(11.7,8.27)})\n",
    "\n",
    "%matplotlib inline"
   ]
  },
  {
   "cell_type": "code",
   "execution_count": null,
   "metadata": {},
   "outputs": [],
   "source": [
    "file_path = '../data/MergedData2014-2016.xlsx'\n",
    "data = pd.read_excel(file_path, parse_dates=['Date'], index_col=0)\n",
    "data.rename(columns={'# items demanded':'demand',\n",
    "                  'Avg temp in 0.1oC': 'temperature',\n",
    "                  'Rainfall in 24h in 0.1mm':'precipitation',\n",
    "                  }, inplace=True)"
   ]
  },
  {
   "cell_type": "code",
   "execution_count": null,
   "metadata": {},
   "outputs": [],
   "source": [
    "data['t-7'] = data['demand'].shift(7) # Add data for 7 days ago\n",
    "data['t-14'] = data['demand'].shift(14) # Add data for 14 days ago\n",
    "data['day of week'] = data.index.weekday_name # Add weekday as a string as extra columns"
   ]
  },
  {
   "cell_type": "markdown",
   "metadata": {},
   "source": [
    "# Average (with stddev) demand per weekday"
   ]
  },
  {
   "cell_type": "code",
   "execution_count": null,
   "metadata": {},
   "outputs": [],
   "source": [
    "# Plot with average demand per weekday\n",
    "with sns.axes_style(\"white\"):\n",
    "    # Set up the matplotlib figure\n",
    "    f, g = plt.subplots(figsize=(15, 12))\n",
    "    g = sns.barplot(x=data['day of week'], y=data['demand']);\n",
    "    g.set_title(\"Mean and std dev demand per weekday\");\n",
    "    plt.xticks(rotation=30);\n",
    "#     g.figure.savefig('../figs/avgdemand-per-weekday.svg', \n",
    "#                      format='svg', dpi=250);"
   ]
  },
  {
   "cell_type": "markdown",
   "metadata": {},
   "source": [
    "## Boxplot per variable"
   ]
  },
  {
   "cell_type": "code",
   "execution_count": null,
   "metadata": {},
   "outputs": [],
   "source": [
    "# Scale temp and precipitation data to fit on a similar range as demand\n",
    "data['scaled_temperature'] = data['temperature'] / 25\n",
    "data['scaled_precipitation'] = data['precipitation'] / 25\n",
    "\n",
    "# Define columns to draw boxplots for\n",
    "cols_boxplot = ['demand',\n",
    "                'scaled_temperature',\n",
    "                'scaled_precipitation',\n",
    "                   ]\n",
    "\n",
    "# Plot and save figure\n",
    "with sns.axes_style(\"white\"):\n",
    "    f, ax = plt.subplots(figsize=(15, 12))\n",
    "    ax = sns.boxplot(data=data.loc[:,cols_boxplot], palette='husl').set_title(\" \\\n",
    "        Boxplot for demand, temperature and precipitation\");\n",
    "    plt.show();\n",
    "#     ax.figure.savefig('../figs/boxplots.png', format='png', dpi=250);"
   ]
  },
  {
   "cell_type": "markdown",
   "metadata": {},
   "source": [
    "## Correlation plot between variables"
   ]
  },
  {
   "cell_type": "code",
   "execution_count": null,
   "metadata": {
    "scrolled": false
   },
   "outputs": [],
   "source": [
    "# Define columns to be used in correlation plot\n",
    "cols_correlation = ['demand',\n",
    "                    'temperature',\n",
    "                    'precipitation',\n",
    "                    't-7',\n",
    "                    't-14',\n",
    "                   ]\n",
    "\n",
    "# Compute the correlation matrix based on cols\n",
    "corr = data.loc[:, cols_correlation].corr()\n",
    "\n",
    "mask = np.zeros_like(corr)\n",
    "mask[np.triu_indices_from(mask)] = True\n",
    "with sns.axes_style(\"white\"):\n",
    "    # Set up the matplotlib figure\n",
    "    f, ax = plt.subplots(figsize=(15, 12))\n",
    "    ax = sns.heatmap(corr, mask=mask, vmax=.3, square=True, \\\n",
    "        cmap=\"YlGnBu\").set_title(\"Correlation heatmap between variables\")\n",
    "    plt.show();\n",
    "#     ax.figure.savefig('../figs/corr_heatmap.png', format='png', dpi=250);"
   ]
  },
  {
   "cell_type": "markdown",
   "metadata": {},
   "source": [
    "## Inspect highest absolute correlation in scatter plot"
   ]
  },
  {
   "cell_type": "code",
   "execution_count": null,
   "metadata": {},
   "outputs": [],
   "source": [
    "with sns.axes_style(\"white\"):\n",
    "    # Set up the matplotlib figure\n",
    "    f, ax = plt.subplots(figsize=(15, 12))\n",
    "    ax = sns.scatterplot(x=data['temperature'],\n",
    "                        y=data['demand']).set_title(\"Scatterplot demand and temperature\")\n",
    "    plt.show();\n",
    "#     ax.figure.savefig('../figs/scatter_dem_temp.png', format='png');"
   ]
  },
  {
   "cell_type": "markdown",
   "metadata": {},
   "source": [
    "## Visualize the search space for _Z_"
   ]
  },
  {
   "cell_type": "code",
   "execution_count": null,
   "metadata": {},
   "outputs": [],
   "source": [
    "# Plot behaviour of cost for different values of z\n",
    "z_results = pickle.load(open('./z_results_df.p', 'rb'))\n",
    "\n",
    "with sns.axes_style(\"white\"):\n",
    "    # Set up the matplotlib figure\n",
    "    f, g = plt.subplots(figsize=(15, 12))\n",
    "    g = sns.barplot(y=z_results['Cost'], x=[i for i in np.arange(0.5, 6, 0.5)]);\n",
    "    g.set_title(\"Cost function for different values of Z\");\n",
    "    g.set_xlabel('Value for safety factor (z)')\n",
    "    plt.xticks(rotation=30);\n",
    "#     g.figure.savefig('../figs/cost_against_z.png', \n",
    "#                      format='png', dpi=200);"
   ]
  }
 ],
 "metadata": {
  "kernelspec": {
   "display_name": "Python 3",
   "language": "python",
   "name": "python3"
  },
  "language_info": {
   "codemirror_mode": {
    "name": "ipython",
    "version": 3
   },
   "file_extension": ".py",
   "mimetype": "text/x-python",
   "name": "python",
   "nbconvert_exporter": "python",
   "pygments_lexer": "ipython3",
   "version": "3.6.6"
  }
 },
 "nbformat": 4,
 "nbformat_minor": 2
}
