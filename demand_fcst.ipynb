{
 "cells": [
  {
   "cell_type": "markdown",
   "metadata": {},
   "source": [
    "# Demand forecasting construction and fitting"
   ]
  },
  {
   "cell_type": "code",
   "execution_count": null,
   "metadata": {
    "scrolled": true
   },
   "outputs": [],
   "source": [
    "# Import pandas for data manipulation\n",
    "import pandas as pd\n",
    "\n",
    "# Import matplotlib and seaborn for plotting\n",
    "import matplotlib.pyplot as plt\n",
    "import seaborn as sns\n",
    "%matplotlib inline\n",
    "\n",
    "# Import xgboost for model and plotting util and pickle for saving it\n",
    "from xgboost import XGBRegressor, plot_importance\n",
    "import pickle\n",
    "\n",
    "# Import sklearn cross val score and time series splits for model tuning\n",
    "from sklearn.model_selection import TimeSeriesSplit\n",
    "from sklearn.model_selection import cross_val_score, GridSearchCV"
   ]
  },
  {
   "cell_type": "markdown",
   "metadata": {},
   "source": [
    "## Processing input data"
   ]
  },
  {
   "cell_type": "code",
   "execution_count": null,
   "metadata": {},
   "outputs": [],
   "source": [
    "file_path = '../data/MergedData2014-2016.xlsx'\n",
    "\n",
    "train = pd.read_excel(file_path, parse_dates=['Date'])\n",
    "train.rename(columns={'# items demanded':'demand',\n",
    "                   'Avg temp in 0.1oC': 'temperature',\n",
    "                   'Rainfall in 24h in 0.1mm':'precipitation',\n",
    "                  }, inplace=True)\n",
    "\n",
    "# Add weekday based on date\n",
    "train['weekday'] = train['Date'].dt.day_name()\n",
    "\n",
    "# Obtain dummy columns for weekdays\n",
    "weekday_dummies = pd.get_dummies(train['weekday'])\n",
    "\n",
    "# Concatenate dummies to train data\n",
    "train = pd.concat([train, weekday_dummies], axis=1)\n",
    "\n",
    "# Add lagged variables\n",
    "train['t-7'] = train['demand'].shift(7).fillna(train['demand'].mean())\n",
    "train['t-14'] = train['demand'].shift(14).fillna(train['demand'].mean())"
   ]
  },
  {
   "cell_type": "markdown",
   "metadata": {},
   "source": [
    "## Split data into features and target"
   ]
  },
  {
   "cell_type": "code",
   "execution_count": null,
   "metadata": {},
   "outputs": [],
   "source": [
    "X_train = train.drop(['Date', 'demand', 'weekday'], axis=1)\n",
    "y_train = train.loc[:, 'demand']"
   ]
  },
  {
   "cell_type": "markdown",
   "metadata": {},
   "source": [
    "## Train and tune regressor on train set (with time series cross validation)"
   ]
  },
  {
   "cell_type": "code",
   "execution_count": null,
   "metadata": {},
   "outputs": [],
   "source": [
    "params_grid = {\"n_estimators\": [150,300,500],\n",
    "               \"max_depth\": [3,4,5],\n",
    "               \"learning_rate\": [0.1, 0.01, 0.005],\n",
    "              }"
   ]
  },
  {
   "cell_type": "code",
   "execution_count": null,
   "metadata": {},
   "outputs": [],
   "source": [
    "# for time-series cross-validation set 5 folds \n",
    "tscv = TimeSeriesSplit(n_splits=5)\n",
    "\n",
    "# Params to tweak: max leaf size, max depth, learning rate\n",
    "xgb = XGBRegressor()\n",
    "\n",
    "cv = GridSearchCV(xgb, param_grid=params_grid, \n",
    "                  scoring='neg_mean_squared_error', cv=tscv)\n",
    "\n",
    "cv.fit(X_train, y_train)"
   ]
  },
  {
   "cell_type": "markdown",
   "metadata": {},
   "source": [
    "## Evaluate model"
   ]
  },
  {
   "cell_type": "code",
   "execution_count": null,
   "metadata": {},
   "outputs": [],
   "source": [
    "# Collect the gridsearch results in a dataframe\n",
    "# based on interim test scores\n",
    "scores = pd.Series(cv.cv_results_['split4_test_score'], name='scores')\n",
    "GS_results = pd.DataFrame.from_dict(cv.cv_results_['params'])\n",
    "GS_results['scores'] = scores"
   ]
  },
  {
   "cell_type": "code",
   "execution_count": null,
   "metadata": {
    "scrolled": false
   },
   "outputs": [],
   "source": [
    "# Plot with gridscores \n",
    "with sns.axes_style(\"white\"):\n",
    "    f, g = plt.subplots(figsize=(15, 12))\n",
    "    g = sns.barplot(x=GS_results.set_index(['learning_rate',\n",
    "                                           'max_depth',\n",
    "                                           'n_estimators']).index,\n",
    "                    y=GS_results['scores']*-1); # Turn into positive errors\n",
    "    g.set_title(\"Interim test set errors for all tested parameter sets\");\n",
    "    plt.xticks(rotation=60);\n",
    "#     g.figure.savefig('../figs/grid_scores_train.png', \n",
    "#                      format='png', dpi=250);"
   ]
  },
  {
   "cell_type": "markdown",
   "metadata": {},
   "source": [
    "## Re-train and save best model for later use\n",
    "\n",
    "This cell has been turned into raw text because we don't want to overwrite the saved model, because that would harm reproducibility of the results. "
   ]
  },
  {
   "cell_type": "code",
   "execution_count": null,
   "metadata": {},
   "outputs": [],
   "source": [
    "# Train the model again with the best parameters\n",
    "xgb_tuned = XGBRegressor(**cv.best_params_)\n",
    "xgb_tuned.fit(X_train, y_train)\n",
    "\n",
    "#### THESE LINES HAVE BEEN COMMENTED OUT BECAUSE OVERWRITING THE MODEL WOULD\n",
    "#### HARM REPRODUCIBILITY. PLEASE LEAVE COMMENTED OUT\n",
    "\n",
    "# Save the tuned and trained xgb model in data/xgb_tuned.p\n",
    "# pickle.dump(xgb_tuned, open('./xgb_tuned.p', 'wb')) "
   ]
  },
  {
   "cell_type": "markdown",
   "metadata": {},
   "source": [
    "## Create importance plot for best model"
   ]
  },
  {
   "cell_type": "code",
   "execution_count": null,
   "metadata": {},
   "outputs": [],
   "source": [
    "m = pickle.load(open('./xgb_tuned.p', 'rb'))\n",
    "\n",
    "with sns.axes_style(\"white\"):\n",
    "    f, ax = plt.subplots(figsize=(15, 12))\n",
    "    plot_importance(m, importance_type='gain', \n",
    "                    ax=ax, title=\"Feature importance of trained XGB model\")\n",
    "#     ax.figure.savefig('../figs/xgb_feature_importance.png', \n",
    "#                      format='png', dpi=250);"
   ]
  }
 ],
 "metadata": {
  "kernelspec": {
   "display_name": "Python 3",
   "language": "python",
   "name": "python3"
  },
  "language_info": {
   "codemirror_mode": {
    "name": "ipython",
    "version": 3
   },
   "file_extension": ".py",
   "mimetype": "text/x-python",
   "name": "python",
   "nbconvert_exporter": "python",
   "pygments_lexer": "ipython3",
   "version": "3.6.6"
  }
 },
 "nbformat": 4,
 "nbformat_minor": 2
}
